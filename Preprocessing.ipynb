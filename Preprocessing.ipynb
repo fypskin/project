{
  "cells": [
    {
      "cell_type": "code",
      "execution_count": null,
      "metadata": {
        "colab": {
          "base_uri": "https://localhost:8080/"
        },
        "id": "tdkupMA0me8E",
        "outputId": "a8af6dc2-5770-49e0-a6c9-9929a2f09673"
      },
      "outputs": [
        {
          "name": "stdout",
          "output_type": "stream",
          "text": [
            "Dataset URL: https://www.kaggle.com/datasets/shubhamgoel27/dermnet\n",
            "License(s): Attribution-NonCommercial-NoDerivatives 4.0 International (CC BY-NC-ND 4.0)\n",
            "Downloading dermnet.zip to /content/drive/MyDrive\n",
            " 99% 1.71G/1.72G [00:24<00:00, 46.5MB/s]\n",
            "100% 1.72G/1.72G [00:24<00:00, 76.7MB/s]\n"
          ]
        }
      ],
      "source": [
        "!kaggle datasets download -d shubhamgoel27/dermnet -p /content/drive/MyDrive --unzip"
      ]
    },
    {
      "cell_type": "code",
      "execution_count": null,
      "metadata": {
        "id": "EX59_-0bnWFN"
      },
      "outputs": [],
      "source": [
        "trainpath = \"/content/drive/MyDrive/train\"\n",
        "testpath = \"/content/drive/MyDrive/test\""
      ]
    },
    {
      "cell_type": "code",
      "execution_count": null,
      "metadata": {
        "id": "cG2w92cb0W68"
      },
      "outputs": [],
      "source": [
        "\n",
        "\n",
        "'''import shutil\n",
        "shutil.rmtree(trainpath, ignore_errors=True)'''\n"
      ]
    },
    {
      "cell_type": "code",
      "execution_count": null,
      "metadata": {
        "colab": {
          "base_uri": "https://localhost:8080/"
        },
        "id": "ElBg__EanAzZ",
        "outputId": "6329a254-8c25-4bab-d041-2d80284c5566"
      },
      "outputs": [
        {
          "name": "stdout",
          "output_type": "stream",
          "text": [
            " 'Acne and Rosacea Photos'  -  840  images.\n",
            " 'Actinic Keratosis Basal Cell Carcinoma and other Malignant Lesions'  -  1149  images.\n",
            " 'Atopic Dermatitis Photos'  -  489  images.\n",
            " 'Bullous Disease Photos'  -  448  images.\n",
            " 'Cellulitis Impetigo and other Bacterial Infections'  -  288  images.\n",
            " 'Eczema Photos'  -  1235  images.\n",
            " 'Exanthems and Drug Eruptions'  -  404  images.\n",
            " 'Hair Loss Photos Alopecia and other Hair Diseases'  -  239  images.\n",
            " 'Herpes HPV and other STDs Photos'  -  405  images.\n",
            " 'Light Diseases and Disorders of Pigmentation'  -  568  images.\n",
            " 'Lupus and other Connective Tissue diseases'  -  420  images.\n",
            " 'Melanoma Skin Cancer Nevi and Moles'  -  463  images.\n",
            " 'Nail Fungus and other Nail Disease'  -  1040  images.\n",
            " 'Poison Ivy Photos and other Contact Dermatitis'  -  260  images.\n",
            " 'Psoriasis pictures Lichen Planus and related diseases'  -  1405  images.\n",
            " 'Scabies Lyme Disease and other Infestations and Bites'  -  431  images.\n",
            " 'Seborrheic Keratoses and other Benign Tumors'  -  1371  images.\n",
            " 'Systemic Disease'  -  606  images.\n",
            " 'Tinea Ringworm Candidiasis and other Fungal Infections'  -  1300  images.\n",
            " 'Urticaria Hives'  -  212  images.\n",
            " 'Vascular Tumors'  -  482  images.\n",
            " 'Vasculitis Photos'  -  416  images.\n",
            " 'Warts Molluscum and other Viral Infections'  -  1086  images.\n"
          ]
        }
      ],
      "source": [
        "import os\n",
        "\n",
        "class_image_counts = {class_folder: len([f for f in os.listdir(os.path.join(trainpath, class_folder)) if f.endswith('.jpg')])\n",
        "                      for class_folder in os.listdir(trainpath) if os.path.isdir(os.path.join(trainpath, class_folder))}\n",
        "\n",
        "for class_name, count in class_image_counts.items():\n",
        "    print(f\" '{class_name}'  -  {count}  images.\")"
      ]
    },
    {
      "cell_type": "code",
      "execution_count": null,
      "metadata": {
        "colab": {
          "base_uri": "https://localhost:8080/"
        },
        "id": "fncs2f5vn99C",
        "outputId": "570ec0fc-a12a-4ee6-9fe0-5183a5d850c1"
      },
      "outputs": [
        {
          "name": "stdout",
          "output_type": "stream",
          "text": [
            "Mounted at /content/drive\n"
          ]
        }
      ],
      "source": [
        "from google.colab import drive\n",
        "drive.mount('/content/drive')"
      ]
    },
    {
      "cell_type": "code",
      "execution_count": null,
      "metadata": {
        "colab": {
          "base_uri": "https://localhost:8080/"
        },
        "id": "WHKMw2uScxkX",
        "outputId": "f33c1c46-fab9-4f12-a73a-f42496dd8486"
      },
      "outputs": [
        {
          "name": "stdout",
          "output_type": "stream",
          "text": [
            "Collecting PyWavelets\n",
            "  Downloading pywavelets-1.8.0-cp311-cp311-manylinux_2_17_x86_64.manylinux2014_x86_64.whl.metadata (9.0 kB)\n",
            "Requirement already satisfied: numpy<3,>=1.23 in /usr/local/lib/python3.11/dist-packages (from PyWavelets) (1.26.4)\n",
            "Downloading pywavelets-1.8.0-cp311-cp311-manylinux_2_17_x86_64.manylinux2014_x86_64.whl (4.5 MB)\n",
            "\u001b[?25l   \u001b[90m━━━━━━━━━━━━━━━━━━━━━━━━━━━━━━━━━━━━━━━━\u001b[0m \u001b[32m0.0/4.5 MB\u001b[0m \u001b[31m?\u001b[0m eta \u001b[36m-:--:--\u001b[0m\r\u001b[2K   \u001b[91m━━━\u001b[0m\u001b[90m╺\u001b[0m\u001b[90m━━━━━━━━━━━━━━━━━━━━━━━━━━━━━━━━━━━━\u001b[0m \u001b[32m0.4/4.5 MB\u001b[0m \u001b[31m11.7 MB/s\u001b[0m eta \u001b[36m0:00:01\u001b[0m\r\u001b[2K   \u001b[91m━━━━━━━━━━━━━━━━━━━━━━━━━━━━━━━━━━━━━━━\u001b[0m\u001b[91m╸\u001b[0m \u001b[32m4.5/4.5 MB\u001b[0m \u001b[31m70.2 MB/s\u001b[0m eta \u001b[36m0:00:01\u001b[0m\r\u001b[2K   \u001b[90m━━━━━━━━━━━━━━━━━━━━━━━━━━━━━━━━━━━━━━━━\u001b[0m \u001b[32m4.5/4.5 MB\u001b[0m \u001b[31m49.2 MB/s\u001b[0m eta \u001b[36m0:00:00\u001b[0m\n",
            "\u001b[?25hInstalling collected packages: PyWavelets\n",
            "Successfully installed PyWavelets-1.8.0\n"
          ]
        }
      ],
      "source": [
        "!pip install PyWavelets"
      ]
    },
    {
      "cell_type": "code",
      "execution_count": null,
      "metadata": {
        "colab": {
          "base_uri": "https://localhost:8080/"
        },
        "id": "Xr38MOK_joCV",
        "outputId": "bf18bd3f-6120-4706-c17a-976db28c4f97"
      },
      "outputs": [
        {
          "name": "stderr",
          "output_type": "stream",
          "text": [
            "Processing Acne and Rosacea Photos: 100%|██████████| 840/840 [02:32<00:00,  5.49it/s]\n",
            "Processing Actinic Keratosis Basal Cell Carcinoma and other Malignant Lesions: 100%|██████████| 1149/1149 [03:36<00:00,  5.30it/s]\n",
            "Processing Atopic Dermatitis Photos: 100%|██████████| 489/489 [01:28<00:00,  5.51it/s]\n",
            "Processing Bullous Disease Photos: 100%|██████████| 448/448 [01:17<00:00,  5.78it/s]\n",
            "Processing Cellulitis Impetigo and other Bacterial Infections: 100%|██████████| 288/288 [00:56<00:00,  5.13it/s]\n",
            "Processing Eczema Photos: 100%|██████████| 1235/1235 [03:43<00:00,  5.53it/s]\n",
            "Processing Exanthems and Drug Eruptions: 100%|██████████| 404/404 [01:12<00:00,  5.57it/s]\n",
            "Processing Hair Loss Photos Alopecia and other Hair Diseases: 100%|██████████| 239/239 [00:48<00:00,  4.92it/s]\n",
            "Processing Herpes HPV and other STDs Photos: 100%|██████████| 405/405 [01:18<00:00,  5.15it/s]\n",
            "Processing Light Diseases and Disorders of Pigmentation: 100%|██████████| 568/568 [01:40<00:00,  5.67it/s]\n",
            "Processing Lupus and other Connective Tissue diseases: 100%|██████████| 420/420 [01:18<00:00,  5.33it/s]\n",
            "Processing Melanoma Skin Cancer Nevi and Moles: 100%|██████████| 463/463 [01:33<00:00,  4.95it/s]\n",
            "Processing Nail Fungus and other Nail Disease: 100%|██████████| 1040/1040 [02:45<00:00,  6.30it/s]\n",
            "Processing Poison Ivy Photos and other Contact Dermatitis: 100%|██████████| 260/260 [00:46<00:00,  5.54it/s]\n",
            "Processing Psoriasis pictures Lichen Planus and related diseases: 100%|██████████| 1405/1405 [04:23<00:00,  5.32it/s]\n",
            "Processing Scabies Lyme Disease and other Infestations and Bites: 100%|██████████| 431/431 [01:09<00:00,  6.19it/s]\n",
            "Processing Seborrheic Keratoses and other Benign Tumors: 100%|██████████| 1371/1371 [04:19<00:00,  5.29it/s]\n",
            "Processing Systemic Disease: 100%|██████████| 606/606 [01:49<00:00,  5.54it/s]\n",
            "Processing Tinea Ringworm Candidiasis and other Fungal Infections: 100%|██████████| 1300/1300 [04:06<00:00,  5.27it/s]\n",
            "Processing Urticaria Hives: 100%|██████████| 212/212 [00:32<00:00,  6.58it/s]\n",
            "Processing Vascular Tumors: 100%|██████████| 482/482 [01:12<00:00,  6.64it/s]\n",
            "Processing Vasculitis Photos: 100%|██████████| 416/416 [00:58<00:00,  7.17it/s]\n",
            "Processing Warts Molluscum and other Viral Infections: 100%|██████████| 1086/1086 [02:45<00:00,  6.56it/s]\n"
          ]
        }
      ],
      "source": [
        "import cv2\n",
        "import numpy as np\n",
        "from skimage.restoration import denoise_wavelet\n",
        "from skimage.util import img_as_ubyte\n",
        "from tqdm import tqdm\n",
        "import os\n",
        "\n",
        "def rs(img, sz=(224, 224)):\n",
        "    return cv2.resize(img, sz, interpolation=cv2.INTER_AREA)\n",
        "\n",
        "def nm(img):\n",
        "    return img.astype(np.float32) / 255.0\n",
        "\n",
        "def rh(img):\n",
        "    g = cv2.cvtColor(img, cv2.COLOR_BGR2GRAY)\n",
        "    k = cv2.getStructuringElement(cv2.MORPH_RECT, (3, 3))\n",
        "    bh = cv2.morphologyEx(g, cv2.MORPH_BLACKHAT, k)\n",
        "    _, th = cv2.threshold(bh, 10, 255, cv2.THRESH_BINARY)\n",
        "    return cv2.inpaint(img, th, inpaintRadius=1, flags=cv2.INPAINT_TELEA)\n",
        "\n",
        "def dn(img):\n",
        "    ch = [denoise_wavelet(img[:, :, i], method='BayesShrink', mode='soft', wavelet_levels=1, rescale_sigma=True)\n",
        "          for i in range(img.shape[2])]\n",
        "    return img_as_ubyte(np.stack(ch, axis=-1))\n",
        "\n",
        "def pp(img_p, d=False):\n",
        "    img = cv2.imread(img_p)\n",
        "    if img is None:\n",
        "        print(f\"Err: {img_p} not found\")\n",
        "        return None\n",
        "    img = rh(img)\n",
        "    if d:\n",
        "        img = dn(img)\n",
        "    return img\n",
        "\n",
        "def pp_ds(tr_p, out_p, d=False):\n",
        "    if not os.path.exists(out_p):\n",
        "        os.makedirs(out_p)\n",
        "    for sb in os.listdir(tr_p):\n",
        "        sb_p = os.path.join(tr_p, sb)\n",
        "        out_sb_p = os.path.join(out_p, sb)\n",
        "        if os.path.isdir(sb_p):\n",
        "            if not os.path.exists(out_sb_p):\n",
        "                os.makedirs(out_sb_p)\n",
        "            for img_n in tqdm(os.listdir(sb_p), desc=f\"Processing {sb}\"):\n",
        "                img_p = os.path.join(sb_p, img_n)\n",
        "                p_img = pp(img_p, d)\n",
        "                if p_img is not None:\n",
        "                    cv2.imwrite(os.path.join(out_sb_p, img_n), p_img)\n",
        "\n",
        "tr_p = trainpath\n",
        "out_p = \"/content/drive/MyDrive/preprocessed\"\n",
        "pp_ds(tr_p, out_p, d=True)\n"
      ]
    },
    {
      "cell_type": "code",
      "execution_count": null,
      "metadata": {
        "id": "NFPa5Q_Ek23R"
      },
      "outputs": [],
      "source": [
        "from google.colab import files\n",
        "import shutil\n",
        "folder_path = \"/content/drive/MyDrive/preprocessed\"\n",
        "shutil.make_archive(\"preprocessed_images\", 'zip', folder_path)\n",
        "\n",
        "files.download(\"preprocessed_images.zip\")\n"
      ]
    },
    {
      "cell_type": "code",
      "execution_count": 1,
      "metadata": {},
      "outputs": [
        {
          "name": "stderr",
          "output_type": "stream",
          "text": [
            "/Users/geetika/Library/Python/3.9/lib/python/site-packages/urllib3/__init__.py:35: NotOpenSSLWarning: urllib3 v2 only supports OpenSSL 1.1.1+, currently the 'ssl' module is compiled with 'LibreSSL 2.8.3'. See: https://github.com/urllib3/urllib3/issues/3020\n",
            "  warnings.warn(\n"
          ]
        },
        {
          "name": "stdout",
          "output_type": "stream",
          "text": [
            "Num GPUs Available: 1\n"
          ]
        }
      ],
      "source": [
        "import tensorflow as tf\n",
        "print(\"Num GPUs Available:\", len(tf.config.list_physical_devices('GPU')))\n"
      ]
    }
  ],
  "metadata": {
    "accelerator": "GPU",
    "colab": {
      "gpuType": "T4",
      "provenance": []
    },
    "kernelspec": {
      "display_name": "Python 3",
      "name": "python3"
    },
    "language_info": {
      "codemirror_mode": {
        "name": "ipython",
        "version": 3
      },
      "file_extension": ".py",
      "mimetype": "text/x-python",
      "name": "python",
      "nbconvert_exporter": "python",
      "pygments_lexer": "ipython3",
      "version": "3.9.6"
    }
  },
  "nbformat": 4,
  "nbformat_minor": 0
}
